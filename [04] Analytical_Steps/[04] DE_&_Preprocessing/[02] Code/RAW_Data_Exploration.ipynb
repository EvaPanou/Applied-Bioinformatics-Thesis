version https://git-lfs.github.com/spec/v1
oid sha256:8712f914afba3463925d39d7ad48cb24b2e32ce44ab2cd24ae0928145eaf6ca4
size 610325
