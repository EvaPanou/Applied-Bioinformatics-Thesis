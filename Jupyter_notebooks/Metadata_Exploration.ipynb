{
 "cells": [
  {
   "cell_type": "markdown",
   "metadata": {
    "id": "0pyDjl1knghW"
   },
   "source": [
    "HERE I AM GOING TO DO\n",
    "- **STEP 1:** Parse the metadata\n",
    "&\n",
    "- **STEP 4:** Explore them (from the First notebook's list of goals)"
   ]
  },
  {
   "cell_type": "code",
   "execution_count": 113,
   "metadata": {
    "colab": {
     "base_uri": "https://localhost:8080/"
    },
    "id": "rvemGr_Iqplo",
    "outputId": "12da61dc-6597-4322-ae48-79c2f3d12a0b"
   },
   "outputs": [
    {
     "name": "stdout",
     "output_type": "stream",
     "text": [
      "Metadata for GSE85544_series_matrix.txt has been saved to /content/sample_data/THESIS/GSE85544_series_matrix_parsed_metadata.tsv\n",
      "Metadata for GSE85543_series_matrix.txt has been saved to /content/sample_data/THESIS/GSE85543_series_matrix_parsed_metadata.tsv\n"
     ]
    }
   ],
   "source": [
    "import os\n",
    "import pandas as pd\n",
    "import re\n",
    "\n",
    "# Specify the directory containing the files\n",
    "input_folder = '/content/sample_data/THESIS/'\n",
    "\n",
    "# Loop through each file in the directory\n",
    "for filename in os.listdir(input_folder):\n",
    "    if filename.endswith('.txt'): # because our files are in this format\n",
    "        # Construct the full file path\n",
    "        input_file = os.path.join(input_folder, filename)\n",
    "\n",
    "        # Construct the output name by removing '.txt' and adding '_parsed_metadata.tsv'\n",
    "        output_file = os.path.join(input_folder, f\"{filename[:-4]}_parsed_metadata.tsv\")\n",
    "\n",
    "        # Initialize 2 lists: one to store keys and the second one values\n",
    "        keys = []\n",
    "        values = []\n",
    "\n",
    "        # Open the series matrix file\n",
    "        with open(input_file, 'r') as file:\n",
    "            for line in file:\n",
    "                # Check if the line starts with '!' to identify metadata\n",
    "                if line.startswith('!'):\n",
    "                    # Remove leading '!' and split by tab\n",
    "                    parts = line[1:].strip().split('\\t', 1)  # Split into key and value\n",
    "                    if len(parts) == 2:\n",
    "                        key, value = parts\n",
    "                        keys.append(key)\n",
    "\n",
    "                        # For other lines, split by tabs\n",
    "                        value_parts = value.split('\\t')\n",
    "                        values.append(value_parts)\n",
    "\n",
    "                    else:\n",
    "                        # Handle any other lines that don't split as expected\n",
    "                        keys.append(parts[0])\n",
    "                        values.append([])  # Empty list for missing values\n",
    "\n",
    "        # Create a DataFrame from keys and values\n",
    "        metadata_df = pd.DataFrame({'Key': keys})\n",
    "\n",
    "        # Expand the 'Value' list into separate columns\n",
    "        value_columns = pd.DataFrame(values)\n",
    "\n",
    "        # Concatenate key and value columns\n",
    "        result_df = pd.concat([metadata_df, value_columns], axis=1)\n",
    "\n",
    "        # Save the result as a TSV file\n",
    "        result_df.to_csv(output_file, sep='\\t', index=False)\n",
    "\n",
    "        print(f\"Metadata for {filename} has been saved to {output_file}\")\n"
   ]
  },
  {
   "cell_type": "markdown",
   "metadata": {
    "id": "UiSWBSz0gOpU"
   },
   "source": [
    "\n",
    "\n",
    "---\n",
    "\n",
    "\n",
    "So now it is time to start the metadata file processing, because I have noticed that certain things in both tsv files are not as expected\n",
    "\n",
    "---\n",
    "\n"
   ]
  },
  {
   "cell_type": "code",
   "execution_count": null,
   "metadata": {
    "colab": {
     "base_uri": "https://localhost:8080/"
    },
    "id": "Zv_J1-uVgUl7",
    "outputId": "0519f11f-64fc-4db6-c82c-f0313cfa44d2"
   },
   "outputs": [
    {
     "name": "stdout",
     "output_type": "stream",
     "text": [
      "Metadata for GSE85543_series_matrix_parsed_metadata.tsv has been saved to /content/sample_data/THESIS/GSE85543_metadata.tsv\n",
      "Metadata for GSE85544_series_matrix_parsed_metadata.tsv has been saved to /content/sample_data/THESIS/GSE85544_metadata.tsv\n"
     ]
    }
   ],
   "source": [
    "# Loop through each file in the directory\n",
    "for filename in os.listdir(input_folder):\n",
    "    if filename.endswith('.tsv'):\n",
    "        # Construct the full file path\n",
    "        input_file = os.path.join(input_folder, filename)\n",
    "        output_file = os.path.join(input_folder, f\"{filename[:8]}_metadata.tsv\")\n",
    "\n",
    "        # # Read the TSV file into a DataFrame\n",
    "        df = pd.read_csv(input_file, sep='\\t')\n",
    "\n",
    "        # The last two lines are showing where the raw data tables start and end\n",
    "        # they do not contain any info we can use right now\n",
    "        # all the relevant info can be found parsed in the Raw Data Dataframes\n",
    "        df = df.iloc[:-2]\n",
    "\n",
    "        # FIX column names\n",
    "        df.columns = range(df.shape[1])\n",
    "        # columnames = df.columns\n",
    "        # print(columnames)\n",
    "        # Set the first column as row names\n",
    "        df = df.set_index(df[0])\n",
    "        df = df.iloc[:, 1:]\n",
    "        # rownames = df.index\n",
    "        # print(rownames)\n",
    "\n",
    "        # Remove all types of quotation marks\n",
    "        df = df.map(lambda x: re.sub(r'[\"\\'\"]+', '', x) if isinstance(x, str) and not pd.isna(x) else x)\n",
    "\n",
    "        # After running the code multiple times, only one line in the output could not be\n",
    "        # split properly, so I went with this method, because notheing else worked\n",
    "        # For rowname \"Series_sample_id\", split by SPACE DELIMITER\n",
    "        # value = df.loc['Series_sample_id', df.columns[0]]  # Access using row name and column index\n",
    "        # if isinstance(value, str):\n",
    "        #         split_values = value.split()\n",
    "        #         df.loc['Series_sample_id', df.columns[0]] = split_values  # Update using row name and column index\n",
    "\n",
    "        ##############################################\n",
    "        # I want to comeback after and maybe try and fix this\n",
    "        ##############################################\n",
    "\n",
    "        # Save the result as a TSV file\n",
    "        df.to_csv(output_file, sep='\\t')\n",
    "\n",
    "        print(f\"Metadata for {filename} has been saved to {output_file}\")"
   ]
  },
  {
   "cell_type": "markdown",
   "metadata": {
    "id": "W88HoLFFm53v"
   },
   "source": [
    "Was not able to split the Sample_series_id values for now\n",
    "If I ever need to use the Sample_series_id, the alternative is the Sample_Geo_Accession"
   ]
  }
 ],
 "metadata": {
  "colab": {
   "provenance": []
  },
  "kernelspec": {
   "display_name": "Python 3",
   "name": "python3"
  },
  "language_info": {
   "name": "python"
  }
 },
 "nbformat": 4,
 "nbformat_minor": 0
}
