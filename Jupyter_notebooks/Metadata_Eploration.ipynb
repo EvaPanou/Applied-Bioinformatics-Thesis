{
  "nbformat": 4,
  "nbformat_minor": 0,
  "metadata": {
    "colab": {
      "provenance": []
    },
    "kernelspec": {
      "name": "python3",
      "display_name": "Python 3"
    },
    "language_info": {
      "name": "python"
    }
  },
  "cells": [
    {
      "cell_type": "markdown",
      "source": [
        "HERE I AM GOING TO DO\n",
        "- **STEP 1:** Parse the metadata\n",
        "&\n",
        "- **STEP 4:** Explore them (from the First notebook's list of goals)"
      ],
      "metadata": {
        "id": "0pyDjl1knghW"
      }
    },
    {
      "cell_type": "code",
      "source": [
        "import os\n",
        "import pandas as pd\n",
        "\n",
        "# Specify the directory containing the files\n",
        "input_folder = '/content/sample_data/THESIS/'\n",
        "\n",
        "# Loop through each file in the directory\n",
        "for filename in os.listdir(input_folder):\n",
        "    if filename.endswith('.txt'):\n",
        "        # Construct the full file path\n",
        "        input_file = os.path.join(input_folder, filename)\n",
        "\n",
        "        # Define the output file name by removing '.txt' and adding '_parsed_metadata.tsv'\n",
        "        output_file = os.path.join(input_folder, f\"{filename[:-4]}_parsed_metadata.tsv\")\n",
        "\n",
        "        # Initialize lists to store keys and values\n",
        "        keys = []\n",
        "        values = []\n",
        "\n",
        "        # Open the series matrix file and parse metadata\n",
        "        with open(input_file, 'r') as f:\n",
        "            for line in f:\n",
        "                # Check if the line starts with '!' to identify metadata\n",
        "                if line.startswith('!'):\n",
        "                    # Remove leading '!' and split by tab or space\n",
        "                    parts = line[1:].strip().split('\\t', 1)  # Split into key and value\n",
        "                    if len(parts) == 2:\n",
        "                        key, value = parts\n",
        "                        keys.append(key)\n",
        "\n",
        "                        # Split the value by a delimiter (e.g., comma or semicolon)\n",
        "                        value_parts = value.split('\\t')  # You can change the delimiter here\n",
        "                        values.append(value_parts)  # Store as a list\n",
        "                    else:\n",
        "                        # Handle lines that don't split as expected\n",
        "                        keys.append(parts[0])\n",
        "                        values.append([])  # Empty list for missing values\n",
        "\n",
        "        # Create a DataFrame from keys and values\n",
        "        metadata_df = pd.DataFrame({'Key': keys})\n",
        "\n",
        "        # Expand the 'Value' list into separate columns\n",
        "        value_columns = pd.DataFrame(values)\n",
        "\n",
        "        # Concatenate key and value columns\n",
        "        result_df = pd.concat([metadata_df, value_columns], axis=1)\n",
        "\n",
        "        # Save the result as a TSV file\n",
        "        result_df.to_csv(output_file, sep='\\t', index=False)\n",
        "\n",
        "        print(f\"Metadata for {filename} has been saved to {output_file}\")\n"
      ],
      "metadata": {
        "colab": {
          "base_uri": "https://localhost:8080/"
        },
        "id": "rvemGr_Iqplo",
        "outputId": "8ec68673-8098-4f5c-8b4f-d65a50558ed8"
      },
      "execution_count": 4,
      "outputs": [
        {
          "output_type": "stream",
          "name": "stdout",
          "text": [
            "Metadata for GSE85543_series_matrix.txt has been saved to /content/sample_data/THESIS/GSE85543_series_matrix_parsed_metadata.tsv\n",
            "Metadata for GSE85544_series_matrix.txt has been saved to /content/sample_data/THESIS/GSE85544_series_matrix_parsed_metadata.tsv\n"
          ]
        }
      ]
    },
    {
      "cell_type": "markdown",
      "source": [
        "# FIX THE LINE WITH THE EMPTY SPACES\n",
        "# FIX THE \" \" WHEREVER THEY EXIST\n",
        "# GENERALLY TAKE A LOOK AT EVERYTHING AND FIX IT!!!"
      ],
      "metadata": {
        "id": "n424WYlXr9ou"
      }
    }
  ]
}